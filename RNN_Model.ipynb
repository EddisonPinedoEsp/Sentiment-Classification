{
  "cells": [
    {
      "cell_type": "markdown",
      "metadata": {
        "id": "zE11pBWn6KSx"
      },
      "source": [
        "## Pocesamiento de data"
      ]
    },
    {
      "cell_type": "code",
      "execution_count": 1,
      "metadata": {
        "id": "AiXM4J9a6qjp"
      },
      "outputs": [],
      "source": [
        "import matplotlib.pyplot as plt\n",
        "from google.colab import drive\n",
        "import seaborn as sns\n",
        "import pandas as pd\n",
        "import numpy as np\n",
        "import random"
      ]
    },
    {
      "cell_type": "code",
      "execution_count": 2,
      "metadata": {
        "colab": {
          "base_uri": "https://localhost:8080/"
        },
        "id": "4HKQD2a98udW",
        "outputId": "5a4c85d7-cbc1-4877-b01d-acdc343f927a"
      },
      "outputs": [
        {
          "output_type": "stream",
          "name": "stdout",
          "text": [
            "Drive already mounted at /content/drive/; to attempt to forcibly remount, call drive.mount(\"/content/drive/\", force_remount=True).\n",
            "<class 'pandas.core.frame.DataFrame'>\n",
            "RangeIndex: 25000 entries, 0 to 24999\n",
            "Data columns (total 2 columns):\n",
            " #   Column   Non-Null Count  Dtype \n",
            "---  ------   --------------  ----- \n",
            " 0   message  25000 non-null  object\n",
            " 1   label    25000 non-null  object\n",
            "dtypes: object(2)\n",
            "memory usage: 390.8+ KB\n"
          ]
        }
      ],
      "source": [
        "drive.mount('/content/drive/')\n",
        "path = '/content/drive/MyDrive/ML_P4/train.csv'\n",
        "df = pd.read_csv(path)\n",
        "df.info()\n"
      ]
    },
    {
      "cell_type": "code",
      "execution_count": 3,
      "metadata": {
        "colab": {
          "base_uri": "https://localhost:8080/"
        },
        "id": "aIhhvbV_8upe",
        "outputId": "895f7759-19c7-4d4f-d08f-b173b9b50f31"
      },
      "outputs": [
        {
          "output_type": "stream",
          "name": "stdout",
          "text": [
            "William Hurt scuba diving scientist??? US agents running the investigation abroad? The sick contaminated man kicking butt after falling 20 feet on his back and running away? Sniper missing and not killing Hurt (just wounding him) but the second \"kill\" shot is dead on ? Waste of time. To compare this to falling down as other reviewers did is ridiculous. Oh and by the end of the movie they decide to start wearing gloves on their hands except for the \"evil\" agent and Hurt decides to kill him by giving him the \"virus handshake\". What? BTW...when did IMDb require 10 lines of text? I'm just babbling here. Doesn't this just dillute the content of reviews if you are required to have x amount of lines?\n",
            "\n",
            "Where to start... If this movie had been a dark comedy, I would say it was FANNN-TASTIC! Unfortunately for me, and anyone else with free time and a buck to spare (mind you that was the price I paid, got it from Wal-Mart), this movie was meant to be a thriller. The only THRILL I got was watching Kirkland's lousy rendition of Anne Wilkes from Misery sans snowy woodland area. If you want a good laugh, on a rainy Friday night with some friends, then I highly recommend this movie. But if you want to watch something at least half way decent, then don't even bother.<br /><br />I for one enjoy crappy films, the worse the better in most cases. But Wow... I Meant WOW!! The only person in the entire film that didn't stink it up was the little boy, played by Vincent Berry. The only reason why I even give it 3 stars is because it gave me something to do.\n",
            "\n",
            "Sheesh! What a dreadful movie. Dodgy camera work, a script with more corn than Kellogg's, and acting so hammy you could open a pig farm with it. <br /><br />To cap it all, it doesn't know which audience to aim at - we have Cornel Wilde - or is that Corny Wilde? - getting on his soap box about the hazards of smoking any time someone lights a cigarette, dear oh dear, and in another awkward scene we have the baddie, Lobo, forcing his, ahem, if you will, 'male friend' to do a striptease dressed in a bikini. Try explaining that one to the kids...<br /><br />Throw in an overly contrived Treasure Island-cum-Jaws type storyline, and the result is a film so unintentionally funny, it's enjoyable - I shouldn't expect a Special Edition DVD any time soon, though.\n",
            "\n",
            "I saw this movie the day it came out last year. Hilarious I thought. Well, now it's on video and I saw it again. I love this movie! The things they do are sometimes dumb but that's what makes it my third favorite movie of all time. The special effects are okay, but the witty dialog will have you rolling. I'm the kind of person that'll say i'm inspired by this movie, so if you like dramas and other stuff, avoid. But for all others, enjoy! The acting is superb. Hank Azaria is hands down the best (he's neither a commie, nor a fruit) followed by Ben Stiller (uh, don't correct me. it sickens me) and then William H. Macy delivering his best performance (outshining fargo) Everybody has praised everyone from macy to garafalo, but I think Kel Mitchell was pretty good as Invisible Boy. Two problems: The most boring part of the film is the subplot of the romance between Stiller and Claire Forlani, and the Casanova parole hearing. Some scenes absolutely advance the story in no way, but they're a blast. Kinka and especially the writers tend to drag on a scene untill all it's hilarity is gone, but bam they switch and you're ready for more. I swear after seeing this, you will be tired from the explosive climax (which I think was pretty cool) The camera is pretty cool also, moving at a furious pace with the actors. Also, Tom Waits delivers an outstanding performance (he has this kinda cool bad hero coolness to him) and like someone else said, the best parts are when the characters show some humanness to them. Captain Amazing is pretty funny, (especially his speech to Casanova about his perfect plan-I was rolling) and rush is pretty cool as Casanova. One beef: the funniest comedian ever (eddie izzard) is almost wasted, but his heart is in the right place. So all in all, a wonderful movie. I give it twenty stars and hope that someday, everyone will see the brilliance in the film's best parody, the Six Million Dollar Man one. Laughing right now as I think about it. 20/10\n",
            "\n",
            "Unfortunately, this movie is so bad. The original Out of Towners was manic and very funny, of course they used the script written by Neil Simon. For some reason Neil Simons script is not used in this film so it falls flat time and time again. Even the audience I was with never laughed. The direction is very slow and tedious and when there is a joke it is given away so the joke dies i.e. The couple having sex in the park. They announce it is a lighting ceremony for New York, well we all know the lights are going to come on and we will be able to see cute and mugging Goldie & Steve do a bit of slap stick. The whole movie winds up being like this...a joke is set up and given away. Why isn't Goldies hair ever even messed up in the movie. You will also notice every close up of Goldie (they use a very intense soft lens). I suggest you rent the original with Jack Lemmon and Sandy Dennis, that's if you want to laugh.\n",
            "\n",
            "A wealthy Harvard dude falls for a poor Radcliffe chick much to the consternation of his strict father (Ray Milland).<br /><br />Syrupy, sugary, and most of all, sappy story about a battle of the 'classes' when rich-kid Ryan O'Neal brings home a waif of a librarian for his snobbish parents to ridicule. Ali MacGraw is the social derelict with the filthy mouth while John Marley plays her devout-Catholic father, but no one in the film is more annoying than O'Neal himself with his whimpering portrayal as Harvard's champion yuppie.<br /><br />Followed 8(!) years later by 'Oliver's Story'.\n",
            "\n",
            "What are the odds of a \"Mermaid\" helium balloon traveling from Yuba City, Ca.(on Nov 8th,1993) and landing 4 Days later,(on Nov. 12) in MERMAID, Prince Edward Island, Canada.(Approx. 4000 miles). This is a great movie. It is based on a true story. This movie helps not only children cope with losses, but older people as well. Hope everyone will enjoy it!!! Rhonda\n",
            "\n",
            "Great acting, great movie. If you are thinking of building see this movie first. The dollar amounts may have changed but everything else is the same. The humor is true to life and emotions are those that anyone who has built has felt.\n",
            "\n",
            "Red Eye is a thrilling film by the creator of Freddy Kreuger, Wes Craven. Wes Craven depicts the story of a regular hotel worker Lisa. After attending the funeral of her grandmother, she decides to take the red eye flight. During waiting, she meets this man named Jack Rippner, (how fffrreeaakkyy is that?) and they sort of become friends. Ironically, both sit right next to each other on this plane. Then this is when the horror starts. This movie is thrilling and to the weak hearted people who don't like thrilling/horror films, well lets say that its possible that they might pee in their pants. This is an excellent example of a bone shaking production. Wes Craven did well with this film. He chose the right actors, like Rachel McAdams, an intelligent, sexy girl who knows what she's doing and is cautious of everything when she's acting in a film. Cillian Murphy, the scary and horrifying actor who can chill your bones at his amazing acting being the bad character in this film, and his face can really widen your eyes. Wes Craven did an excellent job and I hope that he makes more films like this one.\n",
            "\n",
            "I'm a big fan of Lucio Fulci; many of his Giallo and splatter flicks are amongst my favourites of all time, but this made for TV movie is extremely sub par and not what I've come to expect from the great Italian director. The film is neither interesting, like some of Fulci's more tame Giallo's, or gory like the majority of his cult classics; thus leaving it lacking in both major areas, and ultimately ensuring that the film isn't very good. The film works from a plot that has been used many times previously, but still it's an idea that always has the chance of springing an interesting story just because it focuses on the theme of the afterlife, which is the ultimate unknown. This film focuses on Giorgio Mainardi; a man that isn't exactly well liked and after he dies of an apparent stomach hemorrhage, there aren't many people that are sad to see him go. This means that his ghost is trapped somewhere between life and the afterlife, and so he decides to try and get to the bottom of his death, and his only ally in this endeavour is his daughter.<br /><br />The video that I saw this film on is proudly proclaimed that the film is \"in the style of HP Lovecraft\", and that's one of the most blatant attempts to sell a film I've ever seen. There is nothing even slightly reminiscent of the great horror writer in this tale, and the reason for that tagline would appear to be because of title similarity to the Stuart Gordon/Lovecraft film, 'From Beyond' - which is a lot better. The film does benefit from a distinctly Italian style, and the score is rather good. Unfortunately, however, Fulci has seen fit to positively roast every scene in it - and so the theme quickly becomes annoying. The plot plays out in a really boring way, and most of the scenes simply involve the ghost 'desperately' trying to find things out, or the daughter placing her suspicions over her family members. This movie was made for Italian TV, and so it's not surprising that it's all rather tame. There's a little bit of gore and a nightmare sequence with zombies; but this isn't the Fulci we all know and love. Overall, this film is extremely mediocre and not a good representation of Fulci's talents. Not worth bothering with, unless you're a Fulci completist.\n",
            "\n"
          ]
        }
      ],
      "source": [
        "random_indices = random.sample(range(len(df)), 10)\n",
        "\n",
        "for index in random_indices:\n",
        "  print(df['message'][index])\n",
        "  print()"
      ]
    },
    {
      "cell_type": "code",
      "execution_count": 4,
      "metadata": {
        "colab": {
          "base_uri": "https://localhost:8080/"
        },
        "id": "k73TPBq48usA",
        "outputId": "734df1c8-a63a-4760-a65f-dc13e06e216b"
      },
      "outputs": [
        {
          "output_type": "stream",
          "name": "stderr",
          "text": [
            "[nltk_data] Downloading package punkt to /root/nltk_data...\n",
            "[nltk_data]   Package punkt is already up-to-date!\n",
            "[nltk_data] Downloading package wordnet to /root/nltk_data...\n",
            "[nltk_data]   Package wordnet is already up-to-date!\n",
            "[nltk_data] Downloading package stopwords to /root/nltk_data...\n",
            "[nltk_data]   Package stopwords is already up-to-date!\n"
          ]
        },
        {
          "output_type": "execute_result",
          "data": {
            "text/plain": [
              "True"
            ]
          },
          "metadata": {},
          "execution_count": 4
        }
      ],
      "source": [
        "import re\n",
        "import nltk\n",
        "from nltk.corpus import stopwords\n",
        "from nltk.stem import WordNetLemmatizer\n",
        "\n",
        "nltk.download('punkt')\n",
        "nltk.download('wordnet')\n",
        "nltk.download('stopwords')"
      ]
    },
    {
      "cell_type": "markdown",
      "source": [
        "### Preprocesamiento"
      ],
      "metadata": {
        "id": "7z8S-o79Y7dk"
      }
    },
    {
      "cell_type": "code",
      "execution_count": 5,
      "metadata": {
        "id": "BbigQgLD8uwe"
      },
      "outputs": [],
      "source": [
        "from tensorflow.keras.preprocessing.sequence import pad_sequences\n",
        "from tensorflow.keras.preprocessing.text import Tokenizer\n",
        "from sklearn.model_selection import train_test_split\n",
        "from gensim.models import Word2Vec\n",
        "import tensorflow as tf"
      ]
    },
    {
      "cell_type": "code",
      "execution_count": 6,
      "metadata": {
        "id": "byngiUT38uuf"
      },
      "outputs": [],
      "source": [
        "\n",
        "def preprocess(text):\n",
        "    text = text.lower()\n",
        "    text = re.sub(r'http\\S+|www\\S+|https\\S+', '', text, flags=re.MULTILINE)\n",
        "    text = re.sub(r'\\@\\w+|\\#', '', text)\n",
        "    text = re.sub(r'[^\\w\\s]', '', text)\n",
        "    text = re.sub(r'\\d+', '', text)\n",
        "    text = re.sub(r'\\s+', ' ', text).strip()\n",
        "    tokens = nltk.word_tokenize(text)\n",
        "    stop_words = set(stopwords.words('english'))\n",
        "    tokens = [token for token in tokens if token not in stop_words]\n",
        "    tokens = [re.sub(r'\\@\\w+|\\#', '', token) for token in tokens]\n",
        "    lemmatizer = WordNetLemmatizer()\n",
        "    tokens = [lemmatizer.lemmatize(token) for token in tokens]\n",
        "    text = ' '.join(tokens)\n",
        "    return text"
      ]
    },
    {
      "cell_type": "code",
      "execution_count": 7,
      "metadata": {
        "id": "637ZO1ME8u1L"
      },
      "outputs": [],
      "source": [
        "# Aplicamos\n",
        "df['processed_text'] = df['message'].apply(preprocess)\n",
        "df['processed_text'] = df['processed_text'].replace('', np.nan)\n",
        "df = df.dropna(subset=['processed_text'])\n",
        "\n",
        "df['label'] = df['label'].map({'neg': 0, 'pos': 1})"
      ]
    },
    {
      "cell_type": "code",
      "execution_count": 8,
      "metadata": {
        "id": "1e4KUlSnA3Yn"
      },
      "outputs": [],
      "source": [
        "# Split\n",
        "X_train, X_test, y_train, y_test = train_test_split(df['processed_text'], df['label'], test_size=0.2, random_state=42)\n",
        "\n",
        "# Tokenize\n",
        "tokenizer = Tokenizer(oov_token='<OOV>')\n",
        "tokenizer.fit_on_texts(X_train)\n",
        "vocab_size = len(tokenizer.word_index) + 1\n",
        "\n",
        "X_train_seq = tokenizer.texts_to_sequences(X_train)\n",
        "X_test_seq = tokenizer.texts_to_sequences(X_test)\n",
        "\n",
        "# Pad sequences\n",
        "max_length = 100\n",
        "X_train_pad = pad_sequences(X_train_seq, maxlen=max_length, padding='post')\n",
        "X_test_pad = pad_sequences(X_test_seq, maxlen=max_length, padding='post')\n",
        "\n",
        "# Train Word2Vec\n",
        "sentences = [text.split() for text in df['processed_text']]\n",
        "w2v_model = Word2Vec(sentences, vector_size=100, window=5, min_count=1, workers=4)\n",
        "\n",
        "# Embedding matrix\n",
        "embedding_matrix = np.zeros((vocab_size, 100))\n",
        "for word, i in tokenizer.word_index.items():\n",
        "    if word in w2v_model.wv:\n",
        "        embedding_matrix[i] = w2v_model.wv[word]"
      ]
    },
    {
      "cell_type": "markdown",
      "metadata": {
        "id": "0PVy-KoI-tLb"
      },
      "source": [
        "## Modelo: RNN"
      ]
    },
    {
      "cell_type": "code",
      "execution_count": 9,
      "metadata": {
        "id": "eUUksfKP-wEE"
      },
      "outputs": [],
      "source": [
        "import torch\n",
        "import torch.nn as nn\n",
        "import torch.optim as optim\n",
        "from torch.nn.utils import clip_grad_norm_\n",
        "from torch.utils.data import DataLoader, TensorDataset\n",
        "\n",
        "from sklearn.metrics import accuracy_score, classification_report, confusion_matrix\n",
        "from sklearn.metrics import confusion_matrix, f1_score, precision_score, recall_score\n"
      ]
    },
    {
      "cell_type": "code",
      "execution_count": 10,
      "metadata": {
        "id": "3JbIFXfO_VPU",
        "colab": {
          "base_uri": "https://localhost:8080/"
        },
        "outputId": "cb4b46a5-5959-4021-df9c-14a48fa805bd"
      },
      "outputs": [
        {
          "output_type": "stream",
          "name": "stdout",
          "text": [
            "cuda\n"
          ]
        }
      ],
      "source": [
        "\n",
        "batch_size = 32\n",
        "if not isinstance(X_train_pad, torch.Tensor):\n",
        "    X_train_tensor = torch.tensor(X_train_pad, dtype=torch.long)\n",
        "    y_train_tensor = torch.tensor(y_train.values, dtype=torch.float32)\n",
        "if not isinstance(X_test_pad, torch.Tensor):\n",
        "    X_test_tensor = torch.tensor(X_test_pad, dtype=torch.long)\n",
        "    y_test_tensor = torch.tensor(y_test.values, dtype=torch.float32)\n",
        "\n",
        "# DataLoader\n",
        "train_data = TensorDataset(X_train_tensor, y_train_tensor)\n",
        "valid_data = TensorDataset(X_test_tensor, y_test_tensor)\n",
        "\n",
        "train_loader = DataLoader(train_data, shuffle=True, batch_size=batch_size)\n",
        "valid_loader = DataLoader(valid_data, batch_size=batch_size)\n",
        "\n",
        "device = torch.device('cuda' if torch.cuda.is_available() else 'cpu')\n",
        "print(device)"
      ]
    },
    {
      "cell_type": "code",
      "execution_count": 11,
      "metadata": {
        "id": "riGdNVz-CHey"
      },
      "outputs": [],
      "source": [
        "# RNN\n",
        "class RNNModel(nn.Module):\n",
        "    def __init__(self, layers, vocab_size, embed_dim, hidden_dim, embed_matrix, output_dim=1):\n",
        "        super(RNNModel, self).__init__()\n",
        "        self.output_dim = output_dim\n",
        "        self.hidden_dim = hidden_dim\n",
        "        self.layers = layers\n",
        "        self.vocab_size = vocab_size\n",
        "\n",
        "        # Embedding layer\n",
        "        self.embedding = nn.Embedding.from_pretrained(torch.FloatTensor(embed_matrix), freeze=True)\n",
        "\n",
        "        # RNN layer\n",
        "        self.rnn = nn.RNN(input_size=embed_dim,\n",
        "                          hidden_size=self.hidden_dim,\n",
        "                          num_layers=layers,\n",
        "                          batch_first=True)\n",
        "\n",
        "        self.dropout = nn.Dropout(0.5)\n",
        "        self.fc = nn.Linear(self.hidden_dim, output_dim)\n",
        "        self.sigmoid = nn.Sigmoid()\n",
        "\n",
        "    def forward(self, x, hidden):\n",
        "        batch_size = x.size(0)\n",
        "\n",
        "        embeds = self.embedding(x)\n",
        "        rnn_out, hidden = self.rnn(embeds, hidden)\n",
        "        rnn_out = rnn_out.contiguous().view(-1, self.hidden_dim)\n",
        "\n",
        "        out = self.dropout(rnn_out)\n",
        "        out = self.fc(out)\n",
        "\n",
        "        sig_out = self.sigmoid(out)\n",
        "        sig_out = sig_out.view(batch_size, -1)\n",
        "        sig_out = sig_out[:, -1]\n",
        "        return sig_out, hidden\n",
        "\n",
        "    def init_hidden(self, batch_size):\n",
        "        hidden = torch.zeros((self.layers, batch_size, self.hidden_dim)).to(device)\n",
        "        return hidden\n"
      ]
    },
    {
      "cell_type": "code",
      "execution_count": 12,
      "metadata": {
        "id": "SChrIVAtShHt"
      },
      "outputs": [],
      "source": [
        "def train_rnn(model, train_loader, criterion, optimizer, device, batch_size, num_epochs):\n",
        "    model.train()\n",
        "    for epoch in range(num_epochs):\n",
        "\n",
        "        hidden = model.init_hidden(batch_size)\n",
        "\n",
        "        total_loss = 0\n",
        "        for inputs, labels in train_loader:\n",
        "            inputs, labels = inputs.to(device), labels.to(device)\n",
        "            optimizer.zero_grad()\n",
        "\n",
        "            hidden = hidden.detach()\n",
        "            outputs, hidden = model(inputs, hidden)\n",
        "\n",
        "            loss = criterion(outputs.squeeze(), labels.float())\n",
        "            loss.backward()\n",
        "            optimizer.step()\n",
        "\n",
        "            total_loss += loss.item()\n",
        "        print(f'Epoch {epoch+1}/{num_epochs}, Loss: {total_loss/len(train_loader)}')"
      ]
    },
    {
      "cell_type": "code",
      "execution_count": 13,
      "metadata": {
        "colab": {
          "base_uri": "https://localhost:8080/"
        },
        "id": "bkCVniCxB3Ra",
        "outputId": "5e3c5ac1-7e07-42d2-9320-74dc45b9bf72"
      },
      "outputs": [
        {
          "output_type": "stream",
          "name": "stdout",
          "text": [
            "Epoch 1/10, Loss: 0.6703732687950135\n",
            "Epoch 2/10, Loss: 0.6737924294471741\n",
            "Epoch 3/10, Loss: 0.6868903817176819\n",
            "Epoch 4/10, Loss: 0.6812847832679748\n",
            "Epoch 5/10, Loss: 0.6745751032829285\n",
            "Epoch 6/10, Loss: 0.6675351883888244\n",
            "Epoch 7/10, Loss: 0.661448567199707\n",
            "Epoch 8/10, Loss: 0.6603928182125092\n",
            "Epoch 9/10, Loss: 0.6755221129894257\n",
            "Epoch 10/10, Loss: 0.6690156358718872\n"
          ]
        }
      ],
      "source": [
        "\n",
        "embed_dim = 100\n",
        "hidden_dim = 64\n",
        "layers = 2  # Capas del RNN\n",
        "output_dim = 1\n",
        "num_epochs = 10\n",
        "learning_rate = 0.001\n",
        "\n",
        "model = RNNModel(layers, vocab_size, embed_dim, hidden_dim, embedding_matrix, output_dim).to(device)\n",
        "\n",
        "# Criterio de pérdida y el optimizador\n",
        "criterion = nn.BCELoss()\n",
        "optimizer = optim.Adam(model.parameters(), lr=learning_rate)\n",
        "\n",
        "train_rnn(model, train_loader, criterion, optimizer, device, batch_size, num_epochs)\n"
      ]
    },
    {
      "cell_type": "code",
      "execution_count": 14,
      "metadata": {
        "id": "BZumQKyIDxup",
        "colab": {
          "base_uri": "https://localhost:8080/",
          "height": 714
        },
        "outputId": "66a5004b-8fbe-4c46-ccf9-68f1372b3d9f"
      },
      "outputs": [
        {
          "output_type": "display_data",
          "data": {
            "text/plain": [
              "<Figure size 640x480 with 1 Axes>"
            ],
            "image/png": "[encoded data removed]"
          },
          "metadata": {}
        },
        {
          "output_type": "stream",
          "name": "stdout",
          "text": [
            "F1 Score: 0.6821295143212951\n",
            "Precision: 0.5661498708010336\n",
            "Recall: 0.8578700078308535\n",
            "              precision    recall  f1-score   support\n",
            "\n",
            "         0.0       0.68      0.31      0.43      2446\n",
            "         1.0       0.57      0.86      0.68      2554\n",
            "\n",
            "    accuracy                           0.59      5000\n",
            "   macro avg       0.62      0.59      0.56      5000\n",
            "weighted avg       0.62      0.59      0.56      5000\n",
            "\n"
          ]
        }
      ],
      "source": [
        "\n",
        "def evaluate_model(model, valid_loader, device):\n",
        "    model.eval()\n",
        "    y_pred = []\n",
        "    y_test = []\n",
        "\n",
        "    with torch.no_grad():\n",
        "        for inputs, labels in valid_loader:\n",
        "            inputs, labels = inputs.to(device), labels.to(device)\n",
        "\n",
        "            hidden = model.init_hidden(inputs.size(0))\n",
        "            outputs, hidden = model(inputs, hidden)\n",
        "            y_pred.extend((outputs.squeeze() > 0.5).float().cpu().numpy())\n",
        "            y_test.extend(labels.cpu().numpy())\n",
        "\n",
        "    y_pred = np.array(y_pred)\n",
        "    y_test = np.array(y_test)\n",
        "\n",
        "    return y_test, y_pred\n",
        "\n",
        "\n",
        "def matriz_confusion(y_test, y_pred, Tipo):\n",
        "    matrix = confusion_matrix(y_test, y_pred)\n",
        "    f2 = pd.DataFrame(matrix.astype('float') / matrix.sum(axis=1)[:, np.newaxis], index=[\"Negative\", 'Positive'], columns=[\"Negative\", 'Positive'])\n",
        "    sns.heatmap(f2, annot=True, cbar=None, cmap=\"Greens\")\n",
        "    plt.title(\"Confusion Matrix \" + Tipo)\n",
        "    plt.tight_layout()\n",
        "    plt.xlabel(\"Predicted\")\n",
        "    plt.ylabel(\"Real\")\n",
        "    plt.show()\n",
        "\n",
        "\n",
        "def calculate_metrics(y_test, y_pred):\n",
        "    f1 = f1_score(y_test, y_pred)\n",
        "    precision = precision_score(y_test, y_pred)\n",
        "    recall = recall_score(y_test, y_pred)\n",
        "\n",
        "    print(f\"F1 Score: {f1}\")\n",
        "    print(f\"Precision: {precision}\")\n",
        "    print(f\"Recall: {recall}\")\n",
        "\n",
        "# Evalúa el modelo\n",
        "y_test_eval, y_pred_eval = evaluate_model(model, valid_loader, device)\n",
        "\n",
        "matriz_confusion(y_test_eval, y_pred_eval, \" RNN Model\")\n",
        "\n",
        "calculate_metrics(y_test_eval, y_pred_eval)\n",
        "\n",
        "print(classification_report(y_test_eval, y_pred_eval))"
      ]
    },
    {
      "cell_type": "markdown",
      "metadata": {
        "id": "l2I7m974Ddt1"
      },
      "source": [
        "## Predicción usando el modelo cargado\n"
      ]
    },
    {
      "cell_type": "code",
      "execution_count": 15,
      "metadata": {
        "id": "Rf_NCzvSaM50"
      },
      "outputs": [],
      "source": [
        "\n",
        "def predict_text(text, model, embedding_matrix, tokenizer, device, max_length=300):\n",
        "\n",
        "    word_indices = tokenizer.texts_to_sequences([text])\n",
        "\n",
        "    pad_sequence = torch.nn.utils.rnn.pad_sequence(\n",
        "        [torch.tensor(word_indices[0][:max_length], dtype=torch.long)],\n",
        "        batch_first=True, padding_value=0)\n",
        "\n",
        "    embed_sequence = torch.tensor([\n",
        "        embedding_matrix[word_idx] if word_idx < len(embedding_matrix) else np.zeros(100)\n",
        "        for word_idx in pad_sequence[0]\n",
        "    ], dtype=torch.float32)\n",
        "\n",
        "    embed_sequence = embed_sequence.unsqueeze(0).to(device)\n",
        "\n",
        "    batch_size = 1\n",
        "    h = model.init_hidden(batch_size).to(device)\n",
        "\n",
        "    model.eval()\n",
        "    with torch.no_grad():\n",
        "        pad_sequence = pad_sequence.type(torch.long).to(device)\n",
        "        output, h = model(pad_sequence, h)\n",
        "    return output.item()\n",
        "\n",
        "def predict_and_display(df, model, embedding_matrix, tokenizer, device):\n",
        "    predicted_sentiments = []\n",
        "\n",
        "    for idx, row in df.iterrows():\n",
        "        review = row['message']\n",
        "\n",
        "        predicted_sentiment = predict_text(review, model, embedding_matrix, tokenizer, device)\n",
        "\n",
        "        predicted_sentiments.append(predicted_sentiment)\n",
        "\n",
        "    df['predicted_sentiment'] = ['pos' if pred > 0.45 else 'neg' for pred in predicted_sentiments]\n",
        "\n",
        "    print(\"DataFrame con predicciones:\")\n",
        "    print(df.head())\n",
        "    print()\n"
      ]
    },
    {
      "cell_type": "code",
      "execution_count": 16,
      "metadata": {
        "id": "hgqMZdpcaRB0",
        "colab": {
          "base_uri": "https://localhost:8080/"
        },
        "outputId": "6e6df89a-bf0f-48c9-afbb-643ec059a385"
      },
      "outputs": [
        {
          "output_type": "stream",
          "name": "stderr",
          "text": [
            "<ipython-input-15-3609ae43d701>:9: UserWarning: Creating a tensor from a list of numpy.ndarrays is extremely slow. Please consider converting the list to a single numpy.ndarray with numpy.array() before converting to a tensor. (Triggered internally at ../torch/csrc/utils/tensor_new.cpp:274.)\n",
            "  embed_sequence = torch.tensor([\n"
          ]
        },
        {
          "output_type": "stream",
          "name": "stdout",
          "text": [
            "DataFrame con predicciones:\n",
            "                                             message predicted_sentiment\n",
            "0  Acclaimed Argentine horror director Emilio Vie...                 pos\n",
            "1  I don't know if it's fair for me to review thi...                 pos\n",
            "2  The only good thing about Persepolis is the sh...                 pos\n",
            "3  I completely forgot that I'd seen this within ...                 pos\n",
            "4  B. Kennedy tried to make a sequel by exaggerat...                 pos\n",
            "\n"
          ]
        }
      ],
      "source": [
        "path1 = '/content/drive/MyDrive/ML_P4/test.csv'\n",
        "\n",
        "df_test = pd.read_csv(path1)\n",
        "\n",
        "device = torch.device('cuda' if torch.cuda.is_available() else 'cpu')\n",
        "\n",
        "predict_and_display(df_test, model, embedding_matrix, tokenizer, device)"
      ]
    },
    {
      "cell_type": "code",
      "execution_count": 17,
      "metadata": {
        "id": "KGCbUEh_yVOX"
      },
      "outputs": [],
      "source": [
        "df_test[\"ids\"] = range(len(df_test))\n",
        "\n",
        "df_test.rename(columns={\"predicted_sentiment\": \"label\"}, inplace=True)\n",
        "\n",
        "df_test.to_csv(\"mi_archivo.csv\", columns=[\"ids\", \"label\"], index=False)"
      ]
    }
  ],
  "metadata": {
    "accelerator": "GPU",
    "colab": {
      "gpuType": "T4",
      "provenance": []
    },
    "kernelspec": {
      "display_name": "Python 3",
      "name": "python3"
    },
    "language_info": {
      "name": "python"
    }
  },
  "nbformat": 4,
  "nbformat_minor": 0
}