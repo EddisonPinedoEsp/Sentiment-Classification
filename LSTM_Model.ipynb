{
  "cells": [
    {
      "cell_type": "markdown",
      "metadata": {
        "id": "zE11pBWn6KSx"
      },
      "source": [
        "## Pocesamiento de data"
      ]
    },
    {
      "cell_type": "code",
      "execution_count": 1,
      "metadata": {
        "id": "AiXM4J9a6qjp"
      },
      "outputs": [],
      "source": [
        "import matplotlib.pyplot as plt\n",
        "from google.colab import drive\n",
        "import seaborn as sns\n",
        "import pandas as pd\n",
        "import numpy as np\n",
        "import random"
      ]
    },
    {
      "cell_type": "code",
      "execution_count": 2,
      "metadata": {
        "colab": {
          "base_uri": "https://localhost:8080/"
        },
        "id": "4HKQD2a98udW",
        "outputId": "33cb0d75-29dd-4a08-97db-65d028b9d446"
      },
      "outputs": [
        {
          "output_type": "stream",
          "name": "stdout",
          "text": [
            "Mounted at /content/drive/\n",
            "<class 'pandas.core.frame.DataFrame'>\n",
            "RangeIndex: 25000 entries, 0 to 24999\n",
            "Data columns (total 2 columns):\n",
            " #   Column   Non-Null Count  Dtype \n",
            "---  ------   --------------  ----- \n",
            " 0   message  25000 non-null  object\n",
            " 1   label    25000 non-null  object\n",
            "dtypes: object(2)\n",
            "memory usage: 390.8+ KB\n"
          ]
        }
      ],
      "source": [
        "drive.mount('/content/drive/')\n",
        "path = '/content/drive/MyDrive/ML_P4/train.csv'\n",
        "df = pd.read_csv(path)\n",
        "df.info()\n"
      ]
    },
    {
      "cell_type": "code",
      "execution_count": 3,
      "metadata": {
        "colab": {
          "base_uri": "https://localhost:8080/"
        },
        "id": "aIhhvbV_8upe",
        "outputId": "88a0a5b2-2ce3-42ce-a6b0-7c48f08914c4"
      },
      "outputs": [
        {
          "output_type": "stream",
          "name": "stdout",
          "text": [
            "This is the story of Australian commandos who are captured out of uniform after a raid. Since they are out of uniform, they are, justly, treated as spies. As such, they are tried, convicted, and sentenced to death. The Japanese court-martial, out of admiration for their heroism, authorizes that they be given a warrior's death. Of course, under the code of Bushido, this means that they are to be beheaded. A fate for which, as westerners, they are unprepared.\n",
            "\n",
            "The small California town of Diablo is plagued with mysterious deaths after sheriff Robert Lopez unearths an ancient box.Legend has it that the box holds the sixteenth-century Mexican demon named Azar.FBI agent Gil Vega is sent to investigate the murders and joins forces with the sheriff's daughters,Dominique and Mary to fight with evil and bloodthirsty demon.\"The Legend of Diablo\" is an absolute garbage.The film lacks scares and gore,the acting is amateurish and the direction is bad.The animation is the only one aspect of the film I enjoyed.I'm a big fan of indie horror flicks,for example I loved \"Torched\",\"Live Feed\",\"Bone Sickness\" or \"Neighborhood Watch\",unfortunately \"The Legend of Diablo\" is a huge misfire.Definitely one to avoid.\n",
            "\n",
            "I think this has the potential of being the best Star Trek series yet, I say POTENTIAL.. we all know there is a chance they will drop the ball and run out of ideas... BUT I HOPE NOT! For those that have not seen it..SEE IT! Without that annoying \"PRIME DIRECTIVE\" floating over their heads every time they encounter races it could be cool.. and Scott Bakula was without a doubt a GREAT CHOICE for Captain, and the Vulcan Babe is hot too, (Check out the decontamination scene)I gave this a FULL 10... it blows away ALL the other series openers.. I hope this goes longer than 7 years...\n",
            "\n",
            "I like David Hamilton's artistic photographs of nude women at the border of womanhood, sometimes erotic, though never pornographic. Someone else liked them, too, because my David Hamilton books were stolen. In one book were seen a few pictures of a young boy, obviously nude, intimate with a young woman older than he, also nude. Though discrete, there was strong sexual connotation. New territory for David Hamilton which proved to be either stills from the movie Tendres Cousines or perhaps photos taken on set.<br /><br />The art of still photography unfortunately does not automatically translate to cinematography. Soft focus becomes out-of-focus and discrete angles become confusing, perhaps because, in motion, they cannot be considered. You either see it or miss it and there's no time to observe, to comprehend. The movie is supposed to be a farce, and funny things do happen, but it doesn't \"hang together,\" perhaps because the story develops so slowly and one may wonder just what's going on. Eventually, the 14-year-old Julien has intercourse with his cousin, but it's soft core, with no genital contact shown on camera. Since it's a farce, we have a disappointing virgin and an embarrassing caught in the act gag and, having caught them, Julien's father even gives him a cigarette to complete the experience. In fairness, the film is in French and conforms to French cinematic forms, which may just be too subtle for most Americans even with English subtitles to help us Phillistines along.<br /><br />It's been suggested that this film is child pornography and that certainly results from today's climate where sexual exploitation of children is clearly a serious problem. Nobody in their right mind wants to endorse or appear to endorse the sexual abuse of children, so there's practically no room left for children to be seen in even the mildest erotic context without immediately activating alarms over sexual violence and exploitation. Guys will think \"Lucky Julien!\" even as they agree that sex and children in the movies is a \"bad thing,\" all the while still wishing they could have been a Julien at that age. Women, too, may have similar thoughts, but all such considerations must be pushed out of one's conscious mind. Hysterically, the worst assumptions have become automatic and matters of children and sex are rigorously avoided. Too bad, since sexual awakening is a real human experience. Afer all, children do grow up and become sexual beings as Julien does. It's a fit literary subject, cinema included, but taboo under the threat of sexual violence against children. David Hamilton, I think, was taking a risk to make a movie on this topic even in 1980. He was somewhat successful at exploring this sensitive topic, and, unfortunately, we're unlikely to see better in the near future for fear of the child pornography label.\n",
            "\n",
            "its too bad that no one knows anything about this movie, and it gets old telling people it's rap's version of spinal tap. and you know, im sorry i dont have any better comments, but damnit, go get the movie and watch it, and then make all your friends watch it too, just like im gonna.\n",
            "\n",
            "This movie makes Peter an elf in Robin Hood costume instead of a human boy in probably-not-Robin-Hood-costume and ignores all the persona features in him that really matter. This movie makes Wendy a babbling idiot. And poor Captain Hook a TOTAL clown. And of course as every Disney cartoon must have a character which has had too many hits in the head, they made one of the Lost Boys that one. The only character that has not been disgraced in this film is Tink. The only star is for her.<br /><br />The story itself then? The Darling parents don't even get the time to notice their kids are gone!!! Probably one of the most significant point in the original story and they ruined it! Also the famous nursery scene between Peter Pan and Wendy is a stunning piece of- There are no thimbles and no acorns - one of the little things that makes the original story such a unique one. It's a wonder he even had lost his shadow and she helped him stick it. (Even though to his shoes and it makes no sense to me.)<br /><br />Ruining a great story like this just to amuse children should be illegal. So know now if you haven't known it before - this Disney version does not have anything significant in common with the original story - which is not really a children's story but just a great, great story.<br /><br />This just annoys me to no end.\n",
            "\n",
            "At first, I hadn't read the novel so far and I hadn't hear anything about the author yet. But as I casually saw this movie, I was totally captive by the story. Already as the Jewish watchman primary said, that he knows no one, who have a bad conscience about the war except from Howard W. Campbell Junior, was such amazing objective and dissociates from simply moralizing the war. Terrific! And the fictitious story about \"the most effective spy for the USA in WWII\", who have lost everything, that was important for his life, is wonderful emotional transcribed. This is the best story about the duality of humanity, I've ever heard about! The questions, this movie is introducing, are in my opinion very important for our society: When does someone bear the guilt of something? What is guilt? Who is a hero and who is a felon? What is important in our life? Can you live without paying attention to the political changes? Is the protagonist guilty or not? These questions are more up to date than in the last 60 years. This is a must see for everyone, who have to think about the acception of war! This movie is a must see for everyone, who meditate, what matters in life and what doesn't...\n",
            "\n",
            "After you see Vertigo, then watch Bell, Book and Candle, made within months of each other.<br /><br />My second favorite Kim Novak film, with Picnic, coming in as third.<br /><br />All three performances are great, Vertigo, being the best, of all.<br /><br />They came to my nowhere Kansas Prairie town, near by, at Salina, Kansas in the 50s, to film, Picnic. <br /><br />Bell, Book and Candle's musical score, I believe is one of Alex North's. Perfect for this bit of comedy.<br /><br />After Vertigo, Stewart and Novak, did this comedy, how amusing to note the dramatic contrast.<br /><br />Worth your time, if you like Kim Novak. The Greta Garbo of my youth.\n",
            "\n",
            "One of the most disgusting films I have ever seen. I wanted to vomit after watching it. I saw this movie in my American History class and the purpose was to see an incite on the life of a farmer in the West during the late 1800's. What we saw were pigs being shot and then slaughtered, human birth, branding. Oh and at the end there was a live birth of a calf and let me tell you that the birth itself wasn't too bad, but the numerous fluids that came out drove most people in my class to the bathroom. The story itself was OK. The premise of the story is a widow and her daughter and they move to the west to be a house keeper of this cowboy. They live a life of hardship and it is an interesting a pretty accurate view of life in the West during the late 1800's. But if you have a choice, do not see this movie.\n",
            "\n",
            "With the exception of FAMILY, this new season is worse than Season One. I can't imagine what they are thinking. As a fan of horror, can tolerate a lot of gore and mindless mayhem, but this series gets worse with each outing. I can't imagine how disheartening it must be for the actors and crew to go to work each day, toiling to churn out such crap. STORY! Is that too much to ask for? CHARACTER! How can we give damn about the fate of ANYONE in these stories? If we are not engaged, who cares if they get carved up or whatever? Almost every episode ends with mindless blood letting, going for gross out shock without any sense of revelation or conclusion or REASON why we have been subjected to an hour of bloodletting. Even Dante's effort this season had some disturbing sexist violence and wandered off to a pointless conclusion. Ironically, the production values and performances tend to be up to speed, while the content is utter crap. I have great hopes for Exec Producer's Garris's VALARIE UNDER THE STAIRS, but we shall see.\n",
            "\n"
          ]
        }
      ],
      "source": [
        "random_indices = random.sample(range(len(df)), 10)\n",
        "\n",
        "for index in random_indices:\n",
        "  print(df['message'][index])\n",
        "  print()"
      ]
    },
    {
      "cell_type": "code",
      "execution_count": 4,
      "metadata": {
        "colab": {
          "base_uri": "https://localhost:8080/"
        },
        "id": "k73TPBq48usA",
        "outputId": "f1a3b270-d36e-4f1a-9093-055cf252b7c4"
      },
      "outputs": [
        {
          "output_type": "stream",
          "name": "stderr",
          "text": [
            "[nltk_data] Downloading package punkt to /root/nltk_data...\n",
            "[nltk_data]   Unzipping tokenizers/punkt.zip.\n",
            "[nltk_data] Downloading package wordnet to /root/nltk_data...\n",
            "[nltk_data] Downloading package stopwords to /root/nltk_data...\n",
            "[nltk_data]   Unzipping corpora/stopwords.zip.\n"
          ]
        },
        {
          "output_type": "execute_result",
          "data": {
            "text/plain": [
              "True"
            ]
          },
          "metadata": {},
          "execution_count": 4
        }
      ],
      "source": [
        "import re\n",
        "import nltk\n",
        "from nltk.corpus import stopwords\n",
        "from nltk.stem import WordNetLemmatizer\n",
        "\n",
        "nltk.download('punkt')\n",
        "nltk.download('wordnet')\n",
        "nltk.download('stopwords')"
      ]
    },
    {
      "cell_type": "markdown",
      "source": [
        "### Preprocesamiento"
      ],
      "metadata": {
        "id": "7z8S-o79Y7dk"
      }
    },
    {
      "cell_type": "code",
      "execution_count": 5,
      "metadata": {
        "id": "BbigQgLD8uwe"
      },
      "outputs": [],
      "source": [
        "from tensorflow.keras.preprocessing.sequence import pad_sequences\n",
        "from tensorflow.keras.preprocessing.text import Tokenizer\n",
        "from sklearn.model_selection import train_test_split\n",
        "from gensim.models import Word2Vec\n",
        "import tensorflow as tf"
      ]
    },
    {
      "cell_type": "code",
      "execution_count": 6,
      "metadata": {
        "id": "byngiUT38uuf"
      },
      "outputs": [],
      "source": [
        "\n",
        "def preprocess(text):\n",
        "    text = text.lower()\n",
        "    text = re.sub(r'http\\S+|www\\S+|https\\S+', '', text, flags=re.MULTILINE)\n",
        "    text = re.sub(r'\\@\\w+|\\#', '', text)\n",
        "    text = re.sub(r'[^\\w\\s]', '', text)\n",
        "    text = re.sub(r'\\d+', '', text)\n",
        "    text = re.sub(r'\\s+', ' ', text).strip()\n",
        "    tokens = nltk.word_tokenize(text)\n",
        "    stop_words = set(stopwords.words('english'))\n",
        "    tokens = [token for token in tokens if token not in stop_words]\n",
        "    tokens = [re.sub(r'\\@\\w+|\\#', '', token) for token in tokens]\n",
        "    lemmatizer = WordNetLemmatizer()\n",
        "    tokens = [lemmatizer.lemmatize(token) for token in tokens]\n",
        "    text = ' '.join(tokens)\n",
        "    return text"
      ]
    },
    {
      "cell_type": "code",
      "execution_count": 7,
      "metadata": {
        "id": "637ZO1ME8u1L"
      },
      "outputs": [],
      "source": [
        "# Aplicamos\n",
        "df['processed_text'] = df['message'].apply(preprocess)\n",
        "df['processed_text'] = df['processed_text'].replace('', np.nan)\n",
        "df = df.dropna(subset=['processed_text'])\n",
        "\n",
        "df['label'] = df['label'].map({'neg': 0, 'pos': 1})"
      ]
    },
    {
      "cell_type": "code",
      "execution_count": 8,
      "metadata": {
        "id": "1e4KUlSnA3Yn"
      },
      "outputs": [],
      "source": [
        "# Split\n",
        "X_train, X_test, y_train, y_test = train_test_split(df['processed_text'], df['label'], test_size=0.2, random_state=42)\n",
        "\n",
        "# Tokenize\n",
        "tokenizer = Tokenizer(oov_token='<OOV>')\n",
        "tokenizer.fit_on_texts(X_train)\n",
        "vocab_size = len(tokenizer.word_index) + 1\n",
        "\n",
        "X_train_seq = tokenizer.texts_to_sequences(X_train)\n",
        "X_test_seq = tokenizer.texts_to_sequences(X_test)\n",
        "\n",
        "# Pad sequences\n",
        "max_length = 100\n",
        "X_train_pad = pad_sequences(X_train_seq, maxlen=max_length, padding='post')\n",
        "X_test_pad = pad_sequences(X_test_seq, maxlen=max_length, padding='post')\n",
        "\n",
        "# Train Word2Vec\n",
        "sentences = [text.split() for text in df['processed_text']]\n",
        "w2v_model = Word2Vec(sentences, vector_size=100, window=5, min_count=1, workers=4)\n",
        "\n",
        "# Embedding matrix\n",
        "embedding_matrix = np.zeros((vocab_size, 100))\n",
        "for word, i in tokenizer.word_index.items():\n",
        "    if word in w2v_model.wv:\n",
        "        embedding_matrix[i] = w2v_model.wv[word]"
      ]
    },
    {
      "cell_type": "markdown",
      "metadata": {
        "id": "0PVy-KoI-tLb"
      },
      "source": [
        "## Modelo: LSTM\n"
      ]
    },
    {
      "cell_type": "code",
      "execution_count": 9,
      "metadata": {
        "id": "eUUksfKP-wEE"
      },
      "outputs": [],
      "source": [
        "import torch\n",
        "import torch.nn as nn\n",
        "import torch.optim as optim\n",
        "from torch.nn.utils import clip_grad_norm_\n",
        "from torch.utils.data import DataLoader, TensorDataset\n",
        "\n",
        "from sklearn.metrics import accuracy_score, classification_report, confusion_matrix\n",
        "from sklearn.metrics import confusion_matrix, f1_score, precision_score, recall_score\n"
      ]
    },
    {
      "cell_type": "code",
      "execution_count": 10,
      "metadata": {
        "id": "3JbIFXfO_VPU",
        "colab": {
          "base_uri": "https://localhost:8080/"
        },
        "outputId": "3c08461e-b9d0-43ff-ee77-5e2ccd54b9c5"
      },
      "outputs": [
        {
          "output_type": "stream",
          "name": "stdout",
          "text": [
            "cuda\n"
          ]
        }
      ],
      "source": [
        "\n",
        "batch_size = 32\n",
        "if not isinstance(X_train_pad, torch.Tensor):\n",
        "    X_train_tensor = torch.tensor(X_train_pad, dtype=torch.long)\n",
        "    y_train_tensor = torch.tensor(y_train.values, dtype=torch.float32)\n",
        "if not isinstance(X_test_pad, torch.Tensor):\n",
        "    X_test_tensor = torch.tensor(X_test_pad, dtype=torch.long)\n",
        "    y_test_tensor = torch.tensor(y_test.values, dtype=torch.float32)\n",
        "\n",
        "# DataLoader\n",
        "train_data = TensorDataset(X_train_tensor, y_train_tensor)\n",
        "valid_data = TensorDataset(X_test_tensor, y_test_tensor)\n",
        "\n",
        "train_loader = DataLoader(train_data, shuffle=True, batch_size=batch_size)\n",
        "valid_loader = DataLoader(valid_data, batch_size=batch_size)\n",
        "\n",
        "device = torch.device('cuda' if torch.cuda.is_available() else 'cpu')\n",
        "print(device)"
      ]
    },
    {
      "cell_type": "code",
      "execution_count": 11,
      "metadata": {
        "id": "riGdNVz-CHey"
      },
      "outputs": [],
      "source": [
        "class SentimentLSTM(nn.Module):\n",
        "    def __init__(self, no_layers, vocab_size, hidden_dim, embedding_dim, embed_matrix, output_dim=1): # Added dropout as a parameter\n",
        "        super(SentimentLSTM, self).__init__()\n",
        "\n",
        "        self.output_dim = output_dim\n",
        "        self.hidden_dim = hidden_dim\n",
        "        self.no_layers = no_layers\n",
        "        self.vocab_size = vocab_size\n",
        "\n",
        "        self.embedding = nn.Embedding.from_pretrained(torch.FloatTensor(embed_matrix), freeze=True)\n",
        "\n",
        "        # LSTM Layer\n",
        "        self.lstm = nn.LSTM(input_size=embedding_dim,\n",
        "                            hidden_size=self.hidden_dim,\n",
        "                            num_layers=no_layers,\n",
        "                            batch_first=True)\n",
        "\n",
        "        self.dropout = nn.Dropout(0.5)\n",
        "        self.fc = nn.Linear(self.hidden_dim, output_dim)\n",
        "        self.sig = nn.Sigmoid()\n",
        "\n",
        "    def forward(self, x, hidden):\n",
        "        batch_size = x.size(0)\n",
        "\n",
        "        embeds = self.embedding(x)\n",
        "        lstm_out, hidden = self.lstm(embeds, hidden)\n",
        "        lstm_out = lstm_out.contiguous().view(-1, self.hidden_dim)\n",
        "\n",
        "        out = self.dropout(lstm_out)\n",
        "        out = self.fc(out)\n",
        "\n",
        "        sig_out = self.sig(out)\n",
        "        sig_out = sig_out.view(batch_size, -1)\n",
        "        sig_out = sig_out[:, -1]\n",
        "        return sig_out, hidden\n",
        "\n",
        "    def init_hidden(self, batch_size):\n",
        "        hidden_state = torch.zeros((self.no_layers, batch_size, self.hidden_dim)).to(device)\n",
        "        cell_state = torch.zeros((self.no_layers, batch_size, self.hidden_dim)).to(device)\n",
        "        hidden = (hidden_state, cell_state)\n",
        "        return hidden\n"
      ]
    },
    {
      "cell_type": "code",
      "execution_count": 12,
      "metadata": {
        "id": "SChrIVAtShHt"
      },
      "outputs": [],
      "source": [
        "def train(model, train_loader, criterion, optimizer, device, batch_size, num_epochs):\n",
        "    model.train()\n",
        "    for epoch in range(num_epochs):\n",
        "        hidden = model.init_hidden(batch_size)\n",
        "\n",
        "        total_loss = 0\n",
        "        for inputs, labels in train_loader:\n",
        "            inputs, labels = inputs.to(device), labels.to(device)\n",
        "\n",
        "            optimizer.zero_grad()\n",
        "            hidden = tuple([h.detach() for h in hidden])\n",
        "            outputs, hidden = model(inputs, hidden)\n",
        "\n",
        "            loss = criterion(outputs.squeeze(), labels.float())\n",
        "            loss.backward()\n",
        "\n",
        "            optimizer.step()\n",
        "            total_loss += loss.item()\n",
        "        print(f'Epoch {epoch+1}/{num_epochs}, Loss: {total_loss/len(train_loader)}')"
      ]
    },
    {
      "cell_type": "code",
      "execution_count": 13,
      "metadata": {
        "id": "bkCVniCxB3Ra",
        "colab": {
          "base_uri": "https://localhost:8080/"
        },
        "outputId": "0190e5dc-b4bb-4733-9a4e-ddf045f07449"
      },
      "outputs": [
        {
          "output_type": "stream",
          "name": "stdout",
          "text": [
            "Epoch 1/10, Loss: 0.6280770396232604\n",
            "Epoch 2/10, Loss: 0.6488441428661347\n",
            "Epoch 3/10, Loss: 0.5393719664096832\n",
            "Epoch 4/10, Loss: 0.4570715966939926\n",
            "Epoch 5/10, Loss: 0.42031548671722413\n",
            "Epoch 6/10, Loss: 0.4039779952287674\n",
            "Epoch 7/10, Loss: 0.3923385228872299\n",
            "Epoch 8/10, Loss: 0.469938319849968\n",
            "Epoch 9/10, Loss: 0.42863401284217834\n",
            "Epoch 10/10, Loss: 0.38205212342739103\n"
          ]
        }
      ],
      "source": [
        "\n",
        "embed_dim = 100\n",
        "hidden_dim = 64\n",
        "layers = 2\n",
        "output_dim = 1\n",
        "num_epochs = 10\n",
        "learning_rate = 0.001\n",
        "\n",
        "model = SentimentLSTM(layers, vocab_size, hidden_dim, embed_dim, embedding_matrix, output_dim).to(device)\n",
        "\n",
        "criterion = nn.BCELoss()\n",
        "optimizer = optim.Adam(model.parameters(), lr=learning_rate)\n",
        "\n",
        "train(model, train_loader, criterion, optimizer, device, batch_size, num_epochs)"
      ]
    },
    {
      "cell_type": "code",
      "execution_count": 14,
      "metadata": {
        "id": "BZumQKyIDxup"
      },
      "outputs": [],
      "source": [
        "\n",
        "def evaluate_model(model, valid_loader, device):\n",
        "    model.eval()\n",
        "    y_pred = []\n",
        "    y_test = []\n",
        "\n",
        "    with torch.no_grad():\n",
        "        for inputs, labels in valid_loader:\n",
        "            inputs, labels = inputs.to(device), labels.to(device)\n",
        "            hidden = model.init_hidden(inputs.size(0))\n",
        "            outputs, hidden = model(inputs, hidden)\n",
        "            y_pred.extend((outputs.squeeze() > 0.5).float().cpu().numpy())\n",
        "            y_test.extend(labels.cpu().numpy())\n",
        "\n",
        "    y_pred = np.array(y_pred)\n",
        "    y_test = np.array(y_test)\n",
        "\n",
        "    return y_test, y_pred\n",
        "\n",
        "\n",
        "def matriz_confusion(y_test, y_pred, Tipo):\n",
        "    matrix = confusion_matrix(y_test, y_pred)\n",
        "    f2 = pd.DataFrame(matrix.astype('float') / matrix.sum(axis=1)[:, np.newaxis], index=[\"Negative\", 'Positive'], columns=[\"Negative\", 'Positive'])\n",
        "    sns.heatmap(f2, annot=True, cbar=None, cmap=\"Greens\")\n",
        "    plt.title(\"Confusion Matrix \" + Tipo)\n",
        "    plt.tight_layout()\n",
        "    plt.xlabel(\"Predicted\")\n",
        "    plt.ylabel(\"Real\")\n",
        "    plt.show()\n",
        "\n",
        "def calculate_metrics(y_test, y_pred):\n",
        "    f1 = f1_score(y_test, y_pred)\n",
        "    precision = precision_score(y_test, y_pred)\n",
        "    recall = recall_score(y_test, y_pred)\n",
        "\n",
        "    print(f\"F1 Score: {f1}\")\n",
        "    print(f\"Precision: {precision}\")\n",
        "    print(f\"Recall: {recall}\")\n"
      ]
    },
    {
      "cell_type": "code",
      "source": [
        "y_test_eval, y_pred_eval = evaluate_model(model, valid_loader, device)\n",
        "\n",
        "matriz_confusion(y_test_eval, y_pred_eval, \" LSTM Model\")\n",
        "\n",
        "calculate_metrics(y_test_eval, y_pred_eval)\n",
        "\n",
        "print(classification_report(y_test_eval, y_pred_eval))"
      ],
      "metadata": {
        "id": "wkDRiMP5hrXD",
        "colab": {
          "base_uri": "https://localhost:8080/",
          "height": 714
        },
        "outputId": "5c5ce3fe-246e-4755-9fcb-2b6744939b57"
      },
      "execution_count": 15,
      "outputs": [
        {
          "output_type": "display_data",
          "data": {
            "text/plain": [
              "<Figure size 640x480 with 1 Axes>"
            ],
            "image/png": "[encoded data removed]"
          },
          "metadata": {}
        },
        {
          "output_type": "stream",
          "name": "stdout",
          "text": [
            "F1 Score: 0.8422083007047768\n",
            "Precision: 0.8422083007047768\n",
            "Recall: 0.8422083007047768\n",
            "              precision    recall  f1-score   support\n",
            "\n",
            "         0.0       0.84      0.84      0.84      2446\n",
            "         1.0       0.84      0.84      0.84      2554\n",
            "\n",
            "    accuracy                           0.84      5000\n",
            "   macro avg       0.84      0.84      0.84      5000\n",
            "weighted avg       0.84      0.84      0.84      5000\n",
            "\n"
          ]
        }
      ]
    },
    {
      "cell_type": "markdown",
      "metadata": {
        "id": "l2I7m974Ddt1"
      },
      "source": [
        "## Predicción usando el modelo cargado\n"
      ]
    },
    {
      "cell_type": "code",
      "execution_count": 16,
      "metadata": {
        "id": "Rf_NCzvSaM50"
      },
      "outputs": [],
      "source": [
        "\n",
        "def predict_text(text, model, embedding_matrix, tokenizer, device, max_length=300):\n",
        "    word_indices = tokenizer.texts_to_sequences([text])\n",
        "\n",
        "    pad_sequence = torch.nn.utils.rnn.pad_sequence(\n",
        "        [torch.tensor(word_indices[0][:max_length], dtype=torch.long)],\n",
        "        batch_first=True, padding_value=0)\n",
        "\n",
        "    embed_sequence = torch.tensor([\n",
        "        embedding_matrix[word_idx] if word_idx < len(embedding_matrix) else np.zeros(100)\n",
        "        for word_idx in pad_sequence[0]\n",
        "    ], dtype=torch.float32)\n",
        "\n",
        "    embed_sequence = embed_sequence.unsqueeze(0).to(device)\n",
        "\n",
        "    batch_size = 1\n",
        "    h = model.init_hidden(batch_size)\n",
        "    h = tuple([e.to(device) for e in h])\n",
        "\n",
        "    model.eval()\n",
        "    with torch.no_grad():\n",
        "        pad_sequence = pad_sequence.type(torch.long).to(device)\n",
        "        output, h = model(pad_sequence, h)\n",
        "    return output.item()\n",
        "\n",
        "def predict_and_display(df, model, embedding_matrix, tokenizer, device):\n",
        "    predicted_sentiments = []\n",
        "\n",
        "    for idx, row in df.iterrows():\n",
        "        review = row['message']\n",
        "\n",
        "        predicted_sentiment = predict_text(review, model, embedding_matrix, tokenizer, device)\n",
        "        predicted_sentiments.append(predicted_sentiment)\n",
        "\n",
        "    df['predicted_sentiment'] = ['pos' if pred > 0.45 else 'neg' for pred in predicted_sentiments]\n",
        "\n",
        "    print(\"DataFrame con predicciones:\")\n",
        "    print(df.head())\n",
        "    print()"
      ]
    },
    {
      "cell_type": "code",
      "execution_count": null,
      "metadata": {
        "id": "hgqMZdpcaRB0",
        "colab": {
          "base_uri": "https://localhost:8080/"
        },
        "outputId": "effeac3e-c627-4259-ea6f-2e5d913fd74f"
      },
      "outputs": [
        {
          "output_type": "stream",
          "name": "stderr",
          "text": [
            "<ipython-input-16-5773fbb9a381>:8: UserWarning: Creating a tensor from a list of numpy.ndarrays is extremely slow. Please consider converting the list to a single numpy.ndarray with numpy.array() before converting to a tensor. (Triggered internally at ../torch/csrc/utils/tensor_new.cpp:274.)\n",
            "  embed_sequence = torch.tensor([\n"
          ]
        }
      ],
      "source": [
        "path1 = '/content/drive/MyDrive/ML_P4/test.csv'\n",
        "df_test = pd.read_csv(path1)\n",
        "predict_and_display(df_test, model, embedding_matrix, tokenizer, device)"
      ]
    },
    {
      "cell_type": "code",
      "execution_count": null,
      "metadata": {
        "id": "KGCbUEh_yVOX"
      },
      "outputs": [],
      "source": [
        "df_test[\"ids\"] = range(len(df_test))\n",
        "\n",
        "df_test.rename(columns={\"predicted_sentiment\": \"label\"}, inplace=True)\n",
        "\n",
        "df_test.to_csv(\"mi_archivo.csv\", columns=[\"ids\", \"label\"], index=False)"
      ]
    }
  ],
  "metadata": {
    "accelerator": "GPU",
    "colab": {
      "gpuType": "T4",
      "provenance": []
    },
    "kernelspec": {
      "display_name": "Python 3",
      "name": "python3"
    },
    "language_info": {
      "name": "python"
    }
  },
  "nbformat": 4,
  "nbformat_minor": 0
}